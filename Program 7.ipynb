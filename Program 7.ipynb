{
 "cells": [
  {
   "cell_type": "code",
   "execution_count": 1,
   "id": "de749a09",
   "metadata": {},
   "outputs": [
    {
     "name": "stdout",
     "output_type": "stream",
     "text": [
      "     Driver_ID  Distance_Feature  Speeding_Feature\n",
      "0   3423311935             71.24                28\n",
      "1   3423313212             52.53                25\n",
      "2   3423313724             64.54                27\n",
      "3   3423311373             55.69                22\n",
      "4   3423310999             54.58                25\n",
      "5   3423313857             41.91                10\n",
      "6   3423312432             58.64                20\n",
      "7   3423311434             52.02                 8\n",
      "8   3423311328             31.25                34\n",
      "9   3423312488             44.31                19\n",
      "10  3423311254             49.35                40\n",
      "11  3423312943             58.07                45\n",
      "12  3423312536             44.22                22\n",
      "13  3423311542             55.73                19\n",
      "14  3423312176             46.63                43\n",
      "15  3423314176             52.97                32\n",
      "16  3423314202             46.25                35\n",
      "17  3423311346             51.55                27\n",
      "18  3423310666             57.05                26\n",
      "19  3423313527             58.45                30\n",
      "20  3423312182             43.42                23\n",
      "21  3423313590             55.68                37\n",
      "22  3423312268             55.15                18\n",
      "[<matplotlib.lines.Line2D object at 0x00000118597B4760>]\n"
     ]
    },
    {
     "name": "stderr",
     "output_type": "stream",
     "text": [
      "c:\\users\\sudeep\\appdata\\local\\programs\\python\\python38\\lib\\site-packages\\sklearn\\utils\\validation.py:593: FutureWarning: np.matrix usage is deprecated in 1.0 and will raise a TypeError in 1.2. Please convert to a numpy array with np.asarray. For more information see: https://numpy.org/doc/stable/reference/generated/numpy.matrix.html\n",
      "  warnings.warn(\n",
      "c:\\users\\sudeep\\appdata\\local\\programs\\python\\python38\\lib\\site-packages\\sklearn\\utils\\validation.py:593: FutureWarning: np.matrix usage is deprecated in 1.0 and will raise a TypeError in 1.2. Please convert to a numpy array with np.asarray. For more information see: https://numpy.org/doc/stable/reference/generated/numpy.matrix.html\n",
      "  warnings.warn(\n",
      "c:\\users\\sudeep\\appdata\\local\\programs\\python\\python38\\lib\\site-packages\\sklearn\\utils\\validation.py:593: FutureWarning: np.matrix usage is deprecated in 1.0 and will raise a TypeError in 1.2. Please convert to a numpy array with np.asarray. For more information see: https://numpy.org/doc/stable/reference/generated/numpy.matrix.html\n",
      "  warnings.warn(\n"
     ]
    },
    {
     "data": {
      "image/png": "[encoded data removed]",
      "text/plain": [
       "<Figure size 432x288 with 3 Axes>"
      ]
     },
     "metadata": {
      "needs_background": "light"
     },
     "output_type": "display_data"
    }
   ],
   "source": [
    "from sklearn.cluster import KMeans\n",
    "from sklearn import metrics\n",
    "import numpy as np\n",
    "import matplotlib.pyplot as plt\n",
    "import pandas as pd\n",
    "from sklearn.mixture import GaussianMixture\n",
    "\n",
    "data=pd.read_csv(\"clusterdata.csv\")\n",
    "df1=pd.DataFrame(data)\n",
    "print(df1)\n",
    "f1 = df1['Distance_Feature'].values\n",
    "f2 = df1['Speeding_Feature'].values\n",
    "X=np.matrix(list(zip(f1,f2)))     # Example program \n",
    "m=plt.plot(1)\n",
    "print(m)\n",
    "plt.subplot(511)\n",
    "plt.xlim([0, 100])\n",
    "plt.ylim([0, 50])\n",
    "plt.title('Dataset')\n",
    "plt.xlabel('distance_feature')\n",
    "plt.ylabel('speeding_feature')\n",
    "plt.scatter(f1,f2)\n",
    "\n",
    "\n",
    "colors = ['b', 'g', 'r']\n",
    "markers = ['o', 'v', 's']\n",
    "\n",
    "# create new plot and data for K- means algorithm\n",
    "plt.plot(2)\n",
    "ax=plt.subplot(513)\n",
    "kmeans_model = KMeans(n_clusters=3).fit(X)\n",
    "\n",
    "for i, l in enumerate(kmeans_model.labels_):\n",
    "    fig1=plt.plot(f1[i], f2[i], color=colors[l],marker=markers[l])\n",
    "    \n",
    "plt.xlim([0, 100])\n",
    "plt.ylim([0, 50])\n",
    "plt.title('K- Means')\n",
    "plt.ylabel('speeding_feature')\n",
    "plt.xlabel('distance_feature')\n",
    "\n",
    "        \n",
    "\n",
    "# create new plot and data for gaussian mixture\n",
    "plt.plot(3)\n",
    "plt.subplot(515)\n",
    "gmm=GaussianMixture(n_components=3).fit(X)\n",
    "labels= gmm.predict(X)\n",
    "for i, l in enumerate(labels):\n",
    "    plt.plot(f1[i], f2[i], color=colors[l], marker=markers[l])\n",
    "plt.xlim([0, 100])\n",
    "plt.ylim([0, 50])\n",
    "plt.title('Gaussian Mixture')\n",
    "plt.ylabel('speeding_feature')\n",
    "plt.xlabel('distance_feature')\n",
    "\n",
    "\n",
    "plt.show()\n"
   ]
  },
  {
   "cell_type": "code",
   "execution_count": null,
   "id": "ac1fa87d",
   "metadata": {},
   "outputs": [],
   "source": []
  }
 ],
 "metadata": {
  "kernelspec": {
   "display_name": "Python 3 (ipykernel)",
   "language": "python",
   "name": "python3"
  },
  "language_info": {
   "codemirror_mode": {
    "name": "ipython",
    "version": 3
   },
   "file_extension": ".py",
   "mimetype": "text/x-python",
   "name": "python",
   "nbconvert_exporter": "python",
   "pygments_lexer": "ipython3",
   "version": "3.8.5"
  }
 },
 "nbformat": 4,
 "nbformat_minor": 5
}
